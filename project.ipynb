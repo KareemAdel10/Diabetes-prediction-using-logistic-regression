{
 "cells": [
  {
   "cell_type": "markdown",
   "id": "f444d58d",
   "metadata": {
    "papermill": {
     "duration": 0.00952,
     "end_time": "2022-11-28T05:50:22.672927",
     "exception": false,
     "start_time": "2022-11-28T05:50:22.663407",
     "status": "completed"
    },
    "tags": []
   },
   "source": [
    "## Library"
   ]
  },
  {
   "cell_type": "code",
   "execution_count": 194,
   "id": "0e356318",
   "metadata": {
    "execution": {
     "iopub.execute_input": "2022-11-28T05:50:22.692932Z",
     "iopub.status.busy": "2022-11-28T05:50:22.692172Z",
     "iopub.status.idle": "2022-11-28T05:50:26.993721Z",
     "shell.execute_reply": "2022-11-28T05:50:26.992313Z"
    },
    "papermill": {
     "duration": 4.314668,
     "end_time": "2022-11-28T05:50:26.996643",
     "exception": false,
     "start_time": "2022-11-28T05:50:22.681975",
     "status": "completed"
    },
    "tags": []
   },
   "outputs": [],
   "source": [
    "import numpy as np\n",
    "import pandas as pd\n",
    "\n",
    "import matplotlib.pyplot as plt\n",
    "import seaborn as sns \n",
    "import plotly.express as px\n",
    "\n",
    "from sklearn.model_selection import train_test_split\n",
    "from sklearn.preprocessing import MinMaxScaler\n",
    "from sklearn.linear_model import LogisticRegression\n",
    "from sklearn.metrics import classification_report,accuracy_score,f1_score,precision_score,recall_score,roc_curve,roc_auc_score\n",
    "from sklearn.tree import DecisionTreeClassifier\n",
    "from sklearn.neighbors import KNeighborsClassifier\n",
    "from sklearn.discriminant_analysis import LinearDiscriminantAnalysis\n",
    "from sklearn.naive_bayes import GaussianNB\n",
    "from sklearn.svm import SVC\n",
    "%matplotlib inline\n",
    "# import warnings\n",
    "# warnings.filterwarnings('ignore')"
   ]
  },
  {
   "cell_type": "markdown",
   "id": "8f33d355",
   "metadata": {
    "papermill": {
     "duration": 0.008342,
     "end_time": "2022-11-28T05:50:27.014298",
     "exception": false,
     "start_time": "2022-11-28T05:50:27.005956",
     "status": "completed"
    },
    "tags": []
   },
   "source": [
    "## The Data"
   ]
  },
  {
   "cell_type": "code",
   "execution_count": 195,
   "id": "0f4603a1",
   "metadata": {
    "execution": {
     "iopub.execute_input": "2022-11-28T05:50:27.033767Z",
     "iopub.status.busy": "2022-11-28T05:50:27.033299Z",
     "iopub.status.idle": "2022-11-28T05:50:27.051845Z",
     "shell.execute_reply": "2022-11-28T05:50:27.050662Z"
    },
    "papermill": {
     "duration": 0.031561,
     "end_time": "2022-11-28T05:50:27.054639",
     "exception": false,
     "start_time": "2022-11-28T05:50:27.023078",
     "status": "completed"
    },
    "tags": []
   },
   "outputs": [],
   "source": [
    "df = pd.read_csv('diabetes2.csv')"
   ]
  },
  {
   "cell_type": "code",
   "execution_count": 196,
   "id": "a6472e82",
   "metadata": {
    "execution": {
     "iopub.execute_input": "2022-11-28T05:50:27.075342Z",
     "iopub.status.busy": "2022-11-28T05:50:27.074942Z",
     "iopub.status.idle": "2022-11-28T05:50:27.080807Z",
     "shell.execute_reply": "2022-11-28T05:50:27.079605Z"
    },
    "papermill": {
     "duration": 0.017974,
     "end_time": "2022-11-28T05:50:27.082986",
     "exception": false,
     "start_time": "2022-11-28T05:50:27.065012",
     "status": "completed"
    },
    "tags": []
   },
   "outputs": [],
   "source": [
    "df_temp = df.copy()"
   ]
  },
  {
   "cell_type": "code",
   "execution_count": 197,
   "id": "6888db0f",
   "metadata": {
    "execution": {
     "iopub.execute_input": "2022-11-28T05:50:27.102608Z",
     "iopub.status.busy": "2022-11-28T05:50:27.101877Z",
     "iopub.status.idle": "2022-11-28T05:50:27.124372Z",
     "shell.execute_reply": "2022-11-28T05:50:27.123165Z"
    },
    "papermill": {
     "duration": 0.035072,
     "end_time": "2022-11-28T05:50:27.126840",
     "exception": false,
     "start_time": "2022-11-28T05:50:27.091768",
     "status": "completed"
    },
    "tags": []
   },
   "outputs": [
    {
     "data": {
      "text/html": [
       "<div>\n",
       "<style scoped>\n",
       "    .dataframe tbody tr th:only-of-type {\n",
       "        vertical-align: middle;\n",
       "    }\n",
       "\n",
       "    .dataframe tbody tr th {\n",
       "        vertical-align: top;\n",
       "    }\n",
       "\n",
       "    .dataframe thead th {\n",
       "        text-align: right;\n",
       "    }\n",
       "</style>\n",
       "<table border=\"1\" class=\"dataframe\">\n",
       "  <thead>\n",
       "    <tr style=\"text-align: right;\">\n",
       "      <th></th>\n",
       "      <th>Pregnancies</th>\n",
       "      <th>Glucose</th>\n",
       "      <th>BloodPressure</th>\n",
       "      <th>SkinThickness</th>\n",
       "      <th>Insulin</th>\n",
       "      <th>BMI</th>\n",
       "      <th>DiabetesPedigreeFunction</th>\n",
       "      <th>Age</th>\n",
       "      <th>Outcome</th>\n",
       "    </tr>\n",
       "  </thead>\n",
       "  <tbody>\n",
       "    <tr>\n",
       "      <th>0</th>\n",
       "      <td>6</td>\n",
       "      <td>148</td>\n",
       "      <td>72</td>\n",
       "      <td>35</td>\n",
       "      <td>0</td>\n",
       "      <td>33.6</td>\n",
       "      <td>0.627</td>\n",
       "      <td>50</td>\n",
       "      <td>1</td>\n",
       "    </tr>\n",
       "    <tr>\n",
       "      <th>1</th>\n",
       "      <td>1</td>\n",
       "      <td>85</td>\n",
       "      <td>66</td>\n",
       "      <td>29</td>\n",
       "      <td>0</td>\n",
       "      <td>26.6</td>\n",
       "      <td>0.351</td>\n",
       "      <td>31</td>\n",
       "      <td>0</td>\n",
       "    </tr>\n",
       "    <tr>\n",
       "      <th>2</th>\n",
       "      <td>8</td>\n",
       "      <td>183</td>\n",
       "      <td>64</td>\n",
       "      <td>0</td>\n",
       "      <td>0</td>\n",
       "      <td>23.3</td>\n",
       "      <td>0.672</td>\n",
       "      <td>32</td>\n",
       "      <td>1</td>\n",
       "    </tr>\n",
       "    <tr>\n",
       "      <th>3</th>\n",
       "      <td>1</td>\n",
       "      <td>89</td>\n",
       "      <td>66</td>\n",
       "      <td>23</td>\n",
       "      <td>94</td>\n",
       "      <td>28.1</td>\n",
       "      <td>0.167</td>\n",
       "      <td>21</td>\n",
       "      <td>0</td>\n",
       "    </tr>\n",
       "    <tr>\n",
       "      <th>4</th>\n",
       "      <td>0</td>\n",
       "      <td>137</td>\n",
       "      <td>40</td>\n",
       "      <td>35</td>\n",
       "      <td>168</td>\n",
       "      <td>43.1</td>\n",
       "      <td>2.288</td>\n",
       "      <td>33</td>\n",
       "      <td>1</td>\n",
       "    </tr>\n",
       "  </tbody>\n",
       "</table>\n",
       "</div>"
      ],
      "text/plain": [
       "   Pregnancies  Glucose  BloodPressure  SkinThickness  Insulin   BMI  \\\n",
       "0            6      148             72             35        0  33.6   \n",
       "1            1       85             66             29        0  26.6   \n",
       "2            8      183             64              0        0  23.3   \n",
       "3            1       89             66             23       94  28.1   \n",
       "4            0      137             40             35      168  43.1   \n",
       "\n",
       "   DiabetesPedigreeFunction  Age  Outcome  \n",
       "0                     0.627   50        1  \n",
       "1                     0.351   31        0  \n",
       "2                     0.672   32        1  \n",
       "3                     0.167   21        0  \n",
       "4                     2.288   33        1  "
      ]
     },
     "execution_count": 197,
     "metadata": {},
     "output_type": "execute_result"
    }
   ],
   "source": [
    "df.head()"
   ]
  },
  {
   "cell_type": "code",
   "execution_count": 198,
   "id": "4db40c01",
   "metadata": {
    "scrolled": true
   },
   "outputs": [
    {
     "data": {
      "text/plain": [
       "(768, 9)"
      ]
     },
     "execution_count": 198,
     "metadata": {},
     "output_type": "execute_result"
    }
   ],
   "source": [
    "    df.shape"
   ]
  },
  {
   "cell_type": "code",
   "execution_count": 199,
   "id": "6fe9f581",
   "metadata": {
    "execution": {
     "iopub.execute_input": "2022-11-28T05:50:27.147418Z",
     "iopub.status.busy": "2022-11-28T05:50:27.147008Z",
     "iopub.status.idle": "2022-11-28T05:50:27.174877Z",
     "shell.execute_reply": "2022-11-28T05:50:27.172924Z"
    },
    "papermill": {
     "duration": 0.041118,
     "end_time": "2022-11-28T05:50:27.177456",
     "exception": false,
     "start_time": "2022-11-28T05:50:27.136338",
     "status": "completed"
    },
    "scrolled": true,
    "tags": []
   },
   "outputs": [
    {
     "name": "stdout",
     "output_type": "stream",
     "text": [
      "<class 'pandas.core.frame.DataFrame'>\n",
      "RangeIndex: 768 entries, 0 to 767\n",
      "Data columns (total 9 columns):\n",
      " #   Column                    Non-Null Count  Dtype  \n",
      "---  ------                    --------------  -----  \n",
      " 0   Pregnancies               768 non-null    int64  \n",
      " 1   Glucose                   768 non-null    int64  \n",
      " 2   BloodPressure             768 non-null    int64  \n",
      " 3   SkinThickness             768 non-null    int64  \n",
      " 4   Insulin                   768 non-null    int64  \n",
      " 5   BMI                       768 non-null    float64\n",
      " 6   DiabetesPedigreeFunction  768 non-null    float64\n",
      " 7   Age                       768 non-null    int64  \n",
      " 8   Outcome                   768 non-null    int64  \n",
      "dtypes: float64(2), int64(7)\n",
      "memory usage: 54.1 KB\n"
     ]
    }
   ],
   "source": [
    "df.info()"
   ]
  },
  {
   "cell_type": "code",
   "execution_count": 201,
   "id": "c1596277",
   "metadata": {
    "execution": {
     "iopub.execute_input": "2022-11-28T05:50:27.227924Z",
     "iopub.status.busy": "2022-11-28T05:50:27.227218Z",
     "iopub.status.idle": "2022-11-28T05:50:27.235577Z",
     "shell.execute_reply": "2022-11-28T05:50:27.234377Z"
    },
    "papermill": {
     "duration": 0.021802,
     "end_time": "2022-11-28T05:50:27.238206",
     "exception": false,
     "start_time": "2022-11-28T05:50:27.216404",
     "status": "completed"
    },
    "tags": []
   },
   "outputs": [
    {
     "data": {
      "text/plain": [
       "0    500\n",
       "1    268\n",
       "Name: Outcome, dtype: int64"
      ]
     },
     "execution_count": 201,
     "metadata": {},
     "output_type": "execute_result"
    }
   ],
   "source": [
    "df[\"Outcome\"].value_counts()"
   ]
  },
  {
   "cell_type": "markdown",
   "id": "702ef106",
   "metadata": {
    "papermill": {
     "duration": 0.008896,
     "end_time": "2022-11-28T05:50:27.256685",
     "exception": false,
     "start_time": "2022-11-28T05:50:27.247789",
     "status": "completed"
    },
    "tags": []
   },
   "source": [
    "The number of patients who has diabetes are lower than the others."
   ]
  },
  {
   "cell_type": "code",
   "execution_count": 202,
   "id": "8d47add7",
   "metadata": {
    "execution": {
     "iopub.execute_input": "2022-11-28T05:50:27.277047Z",
     "iopub.status.busy": "2022-11-28T05:50:27.276389Z",
     "iopub.status.idle": "2022-11-28T05:50:27.286608Z",
     "shell.execute_reply": "2022-11-28T05:50:27.285682Z"
    },
    "papermill": {
     "duration": 0.022907,
     "end_time": "2022-11-28T05:50:27.288679",
     "exception": false,
     "start_time": "2022-11-28T05:50:27.265772",
     "status": "completed"
    },
    "tags": []
   },
   "outputs": [
    {
     "data": {
      "text/plain": [
       "Pregnancies                 0\n",
       "Glucose                     0\n",
       "BloodPressure               0\n",
       "SkinThickness               0\n",
       "Insulin                     0\n",
       "BMI                         0\n",
       "DiabetesPedigreeFunction    0\n",
       "Age                         0\n",
       "Outcome                     0\n",
       "dtype: int64"
      ]
     },
     "execution_count": 202,
     "metadata": {},
     "output_type": "execute_result"
    }
   ],
   "source": [
    "df.isnull().sum()"
   ]
  },
  {
   "cell_type": "markdown",
   "id": "b0407dde",
   "metadata": {},
   "source": [
    "# Arbitrary Attribute\n"
   ]
  },
  {
   "cell_type": "code",
   "execution_count": 203,
   "id": "fd13796b",
   "metadata": {
    "execution": {
     "iopub.execute_input": "2022-11-28T05:50:30.079250Z",
     "iopub.status.busy": "2022-11-28T05:50:30.078823Z",
     "iopub.status.idle": "2022-11-28T05:50:30.087302Z",
     "shell.execute_reply": "2022-11-28T05:50:30.086195Z"
    },
    "papermill": {
     "duration": 0.023239,
     "end_time": "2022-11-28T05:50:30.089647",
     "exception": false,
     "start_time": "2022-11-28T05:50:30.066408",
     "status": "completed"
    },
    "tags": []
   },
   "outputs": [
    {
     "data": {
      "text/plain": [
       "141.25746268656715"
      ]
     },
     "execution_count": 203,
     "metadata": {},
     "output_type": "execute_result"
    }
   ],
   "source": [
    "# Average Glucose for Diabetic persons\n",
    "df[df.Outcome==1].Glucose.mean()"
   ]
  },
  {
   "cell_type": "markdown",
   "id": "803d9e0c",
   "metadata": {
    "papermill": {
     "duration": 0.010775,
     "end_time": "2022-11-28T05:50:30.111617",
     "exception": false,
     "start_time": "2022-11-28T05:50:30.100842",
     "status": "completed"
    },
    "tags": []
   },
   "source": [
    "## Diabetics Prediction"
   ]
  },
  {
   "cell_type": "code",
   "execution_count": 204,
   "id": "24d13518",
   "metadata": {
    "execution": {
     "iopub.execute_input": "2022-11-28T05:50:30.136562Z",
     "iopub.status.busy": "2022-11-28T05:50:30.136155Z",
     "iopub.status.idle": "2022-11-28T05:50:30.142903Z",
     "shell.execute_reply": "2022-11-28T05:50:30.141664Z"
    },
    "papermill": {
     "duration": 0.021861,
     "end_time": "2022-11-28T05:50:30.145082",
     "exception": false,
     "start_time": "2022-11-28T05:50:30.123221",
     "status": "completed"
    },
    "tags": []
   },
   "outputs": [],
   "source": [
    "x = df_temp.drop(['Outcome'], axis = 1)\n",
    "y = df_temp.loc[:,\"Outcome\"].values"
   ]
  },
  {
   "cell_type": "code",
   "execution_count": 239,
   "id": "fbc277e7",
   "metadata": {
    "execution": {
     "iopub.execute_input": "2022-11-28T05:50:30.169868Z",
     "iopub.status.busy": "2022-11-28T05:50:30.169427Z",
     "iopub.status.idle": "2022-11-28T05:50:30.176609Z",
     "shell.execute_reply": "2022-11-28T05:50:30.175472Z"
    },
    "papermill": {
     "duration": 0.022152,
     "end_time": "2022-11-28T05:50:30.179019",
     "exception": false,
     "start_time": "2022-11-28T05:50:30.156867",
     "status": "completed"
    },
    "tags": []
   },
   "outputs": [],
   "source": [
    "x_train, x_test, y_train, y_test = train_test_split(x, y, test_size = 0.30, random_state = 123)"
   ]
  },
  {
   "cell_type": "code",
   "execution_count": 206,
   "id": "4f470a98",
   "metadata": {
    "execution": {
     "iopub.execute_input": "2022-11-28T05:50:30.204745Z",
     "iopub.status.busy": "2022-11-28T05:50:30.204285Z",
     "iopub.status.idle": "2022-11-28T05:50:30.210385Z",
     "shell.execute_reply": "2022-11-28T05:50:30.209162Z"
    },
    "papermill": {
     "duration": 0.021742,
     "end_time": "2022-11-28T05:50:30.212671",
     "exception": false,
     "start_time": "2022-11-28T05:50:30.190929",
     "status": "completed"
    },
    "scrolled": false,
    "tags": []
   },
   "outputs": [
    {
     "name": "stdout",
     "output_type": "stream",
     "text": [
      "(537, 8)\n",
      "(537,)\n",
      "(231, 8)\n",
      "(231,)\n"
     ]
    }
   ],
   "source": [
    "print(x_train.shape)\n",
    "print(y_train.shape)\n",
    "print(x_test.shape)\n",
    "print(y_test.shape) # instances , attributes"
   ]
  },
  {
   "cell_type": "code",
   "execution_count": 207,
   "id": "98305bca",
   "metadata": {
    "execution": {
     "iopub.execute_input": "2022-11-28T05:50:30.236404Z",
     "iopub.status.busy": "2022-11-28T05:50:30.236006Z",
     "iopub.status.idle": "2022-11-28T05:50:30.254806Z",
     "shell.execute_reply": "2022-11-28T05:50:30.253832Z"
    },
    "papermill": {
     "duration": 0.033956,
     "end_time": "2022-11-28T05:50:30.257570",
     "exception": false,
     "start_time": "2022-11-28T05:50:30.223614",
     "status": "completed"
    },
    "tags": []
   },
   "outputs": [
    {
     "data": {
      "text/html": [
       "<style>#sk-container-id-17 {color: black;background-color: white;}#sk-container-id-17 pre{padding: 0;}#sk-container-id-17 div.sk-toggleable {background-color: white;}#sk-container-id-17 label.sk-toggleable__label {cursor: pointer;display: block;width: 100%;margin-bottom: 0;padding: 0.3em;box-sizing: border-box;text-align: center;}#sk-container-id-17 label.sk-toggleable__label-arrow:before {content: \"▸\";float: left;margin-right: 0.25em;color: #696969;}#sk-container-id-17 label.sk-toggleable__label-arrow:hover:before {color: black;}#sk-container-id-17 div.sk-estimator:hover label.sk-toggleable__label-arrow:before {color: black;}#sk-container-id-17 div.sk-toggleable__content {max-height: 0;max-width: 0;overflow: hidden;text-align: left;background-color: #f0f8ff;}#sk-container-id-17 div.sk-toggleable__content pre {margin: 0.2em;color: black;border-radius: 0.25em;background-color: #f0f8ff;}#sk-container-id-17 input.sk-toggleable__control:checked~div.sk-toggleable__content {max-height: 200px;max-width: 100%;overflow: auto;}#sk-container-id-17 input.sk-toggleable__control:checked~label.sk-toggleable__label-arrow:before {content: \"▾\";}#sk-container-id-17 div.sk-estimator input.sk-toggleable__control:checked~label.sk-toggleable__label {background-color: #d4ebff;}#sk-container-id-17 div.sk-label input.sk-toggleable__control:checked~label.sk-toggleable__label {background-color: #d4ebff;}#sk-container-id-17 input.sk-hidden--visually {border: 0;clip: rect(1px 1px 1px 1px);clip: rect(1px, 1px, 1px, 1px);height: 1px;margin: -1px;overflow: hidden;padding: 0;position: absolute;width: 1px;}#sk-container-id-17 div.sk-estimator {font-family: monospace;background-color: #f0f8ff;border: 1px dotted black;border-radius: 0.25em;box-sizing: border-box;margin-bottom: 0.5em;}#sk-container-id-17 div.sk-estimator:hover {background-color: #d4ebff;}#sk-container-id-17 div.sk-parallel-item::after {content: \"\";width: 100%;border-bottom: 1px solid gray;flex-grow: 1;}#sk-container-id-17 div.sk-label:hover label.sk-toggleable__label {background-color: #d4ebff;}#sk-container-id-17 div.sk-serial::before {content: \"\";position: absolute;border-left: 1px solid gray;box-sizing: border-box;top: 0;bottom: 0;left: 50%;z-index: 0;}#sk-container-id-17 div.sk-serial {display: flex;flex-direction: column;align-items: center;background-color: white;padding-right: 0.2em;padding-left: 0.2em;position: relative;}#sk-container-id-17 div.sk-item {position: relative;z-index: 1;}#sk-container-id-17 div.sk-parallel {display: flex;align-items: stretch;justify-content: center;background-color: white;position: relative;}#sk-container-id-17 div.sk-item::before, #sk-container-id-17 div.sk-parallel-item::before {content: \"\";position: absolute;border-left: 1px solid gray;box-sizing: border-box;top: 0;bottom: 0;left: 50%;z-index: -1;}#sk-container-id-17 div.sk-parallel-item {display: flex;flex-direction: column;z-index: 1;position: relative;background-color: white;}#sk-container-id-17 div.sk-parallel-item:first-child::after {align-self: flex-end;width: 50%;}#sk-container-id-17 div.sk-parallel-item:last-child::after {align-self: flex-start;width: 50%;}#sk-container-id-17 div.sk-parallel-item:only-child::after {width: 0;}#sk-container-id-17 div.sk-dashed-wrapped {border: 1px dashed gray;margin: 0 0.4em 0.5em 0.4em;box-sizing: border-box;padding-bottom: 0.4em;background-color: white;}#sk-container-id-17 div.sk-label label {font-family: monospace;font-weight: bold;display: inline-block;line-height: 1.2em;}#sk-container-id-17 div.sk-label-container {text-align: center;}#sk-container-id-17 div.sk-container {/* jupyter's `normalize.less` sets `[hidden] { display: none; }` but bootstrap.min.css set `[hidden] { display: none !important; }` so we also need the `!important` here to be able to override the default hidden behavior on the sphinx rendered scikit-learn.org. See: https://github.com/scikit-learn/scikit-learn/issues/21755 */display: inline-block !important;position: relative;}#sk-container-id-17 div.sk-text-repr-fallback {display: none;}</style><div id=\"sk-container-id-17\" class=\"sk-top-container\"><div class=\"sk-text-repr-fallback\"><pre>LogisticRegression(max_iter=1000, solver=&#x27;liblinear&#x27;)</pre><b>In a Jupyter environment, please rerun this cell to show the HTML representation or trust the notebook. <br />On GitHub, the HTML representation is unable to render, please try loading this page with nbviewer.org.</b></div><div class=\"sk-container\" hidden><div class=\"sk-item\"><div class=\"sk-estimator sk-toggleable\"><input class=\"sk-toggleable__control sk-hidden--visually\" id=\"sk-estimator-id-17\" type=\"checkbox\" checked><label for=\"sk-estimator-id-17\" class=\"sk-toggleable__label sk-toggleable__label-arrow\">LogisticRegression</label><div class=\"sk-toggleable__content\"><pre>LogisticRegression(max_iter=1000, solver=&#x27;liblinear&#x27;)</pre></div></div></div></div></div>"
      ],
      "text/plain": [
       "LogisticRegression(max_iter=1000, solver='liblinear')"
      ]
     },
     "execution_count": 207,
     "metadata": {},
     "output_type": "execute_result"
    }
   ],
   "source": [
    "#LogisticRegression\n",
    "lr = LogisticRegression(solver='liblinear', max_iter = 1000)\n",
    "lr.fit(x_train, y_train)"
   ]
  },
  {
   "cell_type": "code",
   "execution_count": 208,
   "id": "70ed407b",
   "metadata": {
    "execution": {
     "iopub.execute_input": "2022-11-28T05:50:30.281770Z",
     "iopub.status.busy": "2022-11-28T05:50:30.281335Z",
     "iopub.status.idle": "2022-11-28T05:50:30.295640Z",
     "shell.execute_reply": "2022-11-28T05:50:30.294542Z"
    },
    "papermill": {
     "duration": 0.029089,
     "end_time": "2022-11-28T05:50:30.297878",
     "exception": false,
     "start_time": "2022-11-28T05:50:30.268789",
     "status": "completed"
    },
    "tags": []
   },
   "outputs": [
    {
     "data": {
      "text/html": [
       "<style>#sk-container-id-18 {color: black;background-color: white;}#sk-container-id-18 pre{padding: 0;}#sk-container-id-18 div.sk-toggleable {background-color: white;}#sk-container-id-18 label.sk-toggleable__label {cursor: pointer;display: block;width: 100%;margin-bottom: 0;padding: 0.3em;box-sizing: border-box;text-align: center;}#sk-container-id-18 label.sk-toggleable__label-arrow:before {content: \"▸\";float: left;margin-right: 0.25em;color: #696969;}#sk-container-id-18 label.sk-toggleable__label-arrow:hover:before {color: black;}#sk-container-id-18 div.sk-estimator:hover label.sk-toggleable__label-arrow:before {color: black;}#sk-container-id-18 div.sk-toggleable__content {max-height: 0;max-width: 0;overflow: hidden;text-align: left;background-color: #f0f8ff;}#sk-container-id-18 div.sk-toggleable__content pre {margin: 0.2em;color: black;border-radius: 0.25em;background-color: #f0f8ff;}#sk-container-id-18 input.sk-toggleable__control:checked~div.sk-toggleable__content {max-height: 200px;max-width: 100%;overflow: auto;}#sk-container-id-18 input.sk-toggleable__control:checked~label.sk-toggleable__label-arrow:before {content: \"▾\";}#sk-container-id-18 div.sk-estimator input.sk-toggleable__control:checked~label.sk-toggleable__label {background-color: #d4ebff;}#sk-container-id-18 div.sk-label input.sk-toggleable__control:checked~label.sk-toggleable__label {background-color: #d4ebff;}#sk-container-id-18 input.sk-hidden--visually {border: 0;clip: rect(1px 1px 1px 1px);clip: rect(1px, 1px, 1px, 1px);height: 1px;margin: -1px;overflow: hidden;padding: 0;position: absolute;width: 1px;}#sk-container-id-18 div.sk-estimator {font-family: monospace;background-color: #f0f8ff;border: 1px dotted black;border-radius: 0.25em;box-sizing: border-box;margin-bottom: 0.5em;}#sk-container-id-18 div.sk-estimator:hover {background-color: #d4ebff;}#sk-container-id-18 div.sk-parallel-item::after {content: \"\";width: 100%;border-bottom: 1px solid gray;flex-grow: 1;}#sk-container-id-18 div.sk-label:hover label.sk-toggleable__label {background-color: #d4ebff;}#sk-container-id-18 div.sk-serial::before {content: \"\";position: absolute;border-left: 1px solid gray;box-sizing: border-box;top: 0;bottom: 0;left: 50%;z-index: 0;}#sk-container-id-18 div.sk-serial {display: flex;flex-direction: column;align-items: center;background-color: white;padding-right: 0.2em;padding-left: 0.2em;position: relative;}#sk-container-id-18 div.sk-item {position: relative;z-index: 1;}#sk-container-id-18 div.sk-parallel {display: flex;align-items: stretch;justify-content: center;background-color: white;position: relative;}#sk-container-id-18 div.sk-item::before, #sk-container-id-18 div.sk-parallel-item::before {content: \"\";position: absolute;border-left: 1px solid gray;box-sizing: border-box;top: 0;bottom: 0;left: 50%;z-index: -1;}#sk-container-id-18 div.sk-parallel-item {display: flex;flex-direction: column;z-index: 1;position: relative;background-color: white;}#sk-container-id-18 div.sk-parallel-item:first-child::after {align-self: flex-end;width: 50%;}#sk-container-id-18 div.sk-parallel-item:last-child::after {align-self: flex-start;width: 50%;}#sk-container-id-18 div.sk-parallel-item:only-child::after {width: 0;}#sk-container-id-18 div.sk-dashed-wrapped {border: 1px dashed gray;margin: 0 0.4em 0.5em 0.4em;box-sizing: border-box;padding-bottom: 0.4em;background-color: white;}#sk-container-id-18 div.sk-label label {font-family: monospace;font-weight: bold;display: inline-block;line-height: 1.2em;}#sk-container-id-18 div.sk-label-container {text-align: center;}#sk-container-id-18 div.sk-container {/* jupyter's `normalize.less` sets `[hidden] { display: none; }` but bootstrap.min.css set `[hidden] { display: none !important; }` so we also need the `!important` here to be able to override the default hidden behavior on the sphinx rendered scikit-learn.org. See: https://github.com/scikit-learn/scikit-learn/issues/21755 */display: inline-block !important;position: relative;}#sk-container-id-18 div.sk-text-repr-fallback {display: none;}</style><div id=\"sk-container-id-18\" class=\"sk-top-container\"><div class=\"sk-text-repr-fallback\"><pre>LogisticRegression(max_iter=1000, solver=&#x27;liblinear&#x27;)</pre><b>In a Jupyter environment, please rerun this cell to show the HTML representation or trust the notebook. <br />On GitHub, the HTML representation is unable to render, please try loading this page with nbviewer.org.</b></div><div class=\"sk-container\" hidden><div class=\"sk-item\"><div class=\"sk-estimator sk-toggleable\"><input class=\"sk-toggleable__control sk-hidden--visually\" id=\"sk-estimator-id-18\" type=\"checkbox\" checked><label for=\"sk-estimator-id-18\" class=\"sk-toggleable__label sk-toggleable__label-arrow\">LogisticRegression</label><div class=\"sk-toggleable__content\"><pre>LogisticRegression(max_iter=1000, solver=&#x27;liblinear&#x27;)</pre></div></div></div></div></div>"
      ],
      "text/plain": [
       "LogisticRegression(max_iter=1000, solver='liblinear')"
      ]
     },
     "execution_count": 208,
     "metadata": {},
     "output_type": "execute_result"
    }
   ],
   "source": [
    "lr.fit(x_train, y_train)"
   ]
  },
  {
   "cell_type": "code",
   "execution_count": 209,
   "id": "8eb537b3",
   "metadata": {
    "execution": {
     "iopub.execute_input": "2022-11-28T05:50:30.322638Z",
     "iopub.status.busy": "2022-11-28T05:50:30.321551Z",
     "iopub.status.idle": "2022-11-28T05:50:30.329958Z",
     "shell.execute_reply": "2022-11-28T05:50:30.328957Z"
    },
    "papermill": {
     "duration": 0.023232,
     "end_time": "2022-11-28T05:50:30.332299",
     "exception": false,
     "start_time": "2022-11-28T05:50:30.309067",
     "status": "completed"
    },
    "tags": []
   },
   "outputs": [],
   "source": [
    "x_pred = lr.predict(x_train)"
   ]
  },
  {
   "cell_type": "markdown",
   "id": "d53185e1",
   "metadata": {},
   "source": [
    "# evaluation\n"
   ]
  },
  {
   "cell_type": "code",
   "execution_count": 210,
   "id": "b8ac9e64",
   "metadata": {
    "execution": {
     "iopub.execute_input": "2022-11-28T05:50:30.357089Z",
     "iopub.status.busy": "2022-11-28T05:50:30.356356Z",
     "iopub.status.idle": "2022-11-28T05:50:30.366659Z",
     "shell.execute_reply": "2022-11-28T05:50:30.365593Z"
    },
    "papermill": {
     "duration": 0.02567,
     "end_time": "2022-11-28T05:50:30.369166",
     "exception": false,
     "start_time": "2022-11-28T05:50:30.343496",
     "status": "completed"
    },
    "tags": []
   },
   "outputs": [
    {
     "data": {
      "text/plain": [
       "array([[326,  31],\n",
       "       [ 94,  86]], dtype=int64)"
      ]
     },
     "execution_count": 210,
     "metadata": {},
     "output_type": "execute_result"
    }
   ],
   "source": [
    "from sklearn.metrics import confusion_matrix\n",
    "confusion_matrix(y_train, x_pred)"
   ]
  },
  {
   "cell_type": "code",
   "execution_count": 211,
   "id": "58191a11",
   "metadata": {
    "execution": {
     "iopub.execute_input": "2022-11-28T05:50:30.393428Z",
     "iopub.status.busy": "2022-11-28T05:50:30.393009Z",
     "iopub.status.idle": "2022-11-28T05:50:30.401069Z",
     "shell.execute_reply": "2022-11-28T05:50:30.399648Z"
    },
    "papermill": {
     "duration": 0.023355,
     "end_time": "2022-11-28T05:50:30.403764",
     "exception": false,
     "start_time": "2022-11-28T05:50:30.380409",
     "status": "completed"
    },
    "tags": []
   },
   "outputs": [
    {
     "data": {
      "text/plain": [
       "0.7672253258845437"
      ]
     },
     "execution_count": 211,
     "metadata": {},
     "output_type": "execute_result"
    }
   ],
   "source": [
    "#train score\n",
    "score = accuracy_score(y_train, x_pred)\n",
    "score"
   ]
  },
  {
   "cell_type": "code",
   "execution_count": 212,
   "id": "976d3e57",
   "metadata": {
    "execution": {
     "iopub.execute_input": "2022-11-28T05:50:30.429015Z",
     "iopub.status.busy": "2022-11-28T05:50:30.427958Z",
     "iopub.status.idle": "2022-11-28T05:50:30.435726Z",
     "shell.execute_reply": "2022-11-28T05:50:30.434573Z"
    },
    "papermill": {
     "duration": 0.022738,
     "end_time": "2022-11-28T05:50:30.437962",
     "exception": false,
     "start_time": "2022-11-28T05:50:30.415224",
     "status": "completed"
    },
    "tags": []
   },
   "outputs": [],
   "source": [
    "y_pred = lr.predict(x_test)"
   ]
  },
  {
   "cell_type": "code",
   "execution_count": 213,
   "id": "fb92a1ec",
   "metadata": {
    "execution": {
     "iopub.execute_input": "2022-11-28T05:50:30.463464Z",
     "iopub.status.busy": "2022-11-28T05:50:30.462541Z",
     "iopub.status.idle": "2022-11-28T05:50:30.471664Z",
     "shell.execute_reply": "2022-11-28T05:50:30.470430Z"
    },
    "papermill": {
     "duration": 0.024679,
     "end_time": "2022-11-28T05:50:30.474077",
     "exception": false,
     "start_time": "2022-11-28T05:50:30.449398",
     "status": "completed"
    },
    "tags": []
   },
   "outputs": [
    {
     "data": {
      "text/plain": [
       "array([[131,  31],\n",
       "       [ 12,  57]], dtype=int64)"
      ]
     },
     "execution_count": 213,
     "metadata": {},
     "output_type": "execute_result"
    }
   ],
   "source": [
    "confusion_matrix(y_pred,y_test)"
   ]
  },
  {
   "cell_type": "code",
   "execution_count": 214,
   "id": "b87c649f",
   "metadata": {
    "execution": {
     "iopub.execute_input": "2022-11-28T05:50:30.499172Z",
     "iopub.status.busy": "2022-11-28T05:50:30.498757Z",
     "iopub.status.idle": "2022-11-28T05:50:30.507045Z",
     "shell.execute_reply": "2022-11-28T05:50:30.505928Z"
    },
    "papermill": {
     "duration": 0.023682,
     "end_time": "2022-11-28T05:50:30.509333",
     "exception": false,
     "start_time": "2022-11-28T05:50:30.485651",
     "status": "completed"
    },
    "tags": []
   },
   "outputs": [
    {
     "data": {
      "text/plain": [
       "0.8138528138528138"
      ]
     },
     "execution_count": 214,
     "metadata": {},
     "output_type": "execute_result"
    }
   ],
   "source": [
    "#test score \n",
    "score = accuracy_score(y_pred, y_test)\n",
    "score"
   ]
  },
  {
   "cell_type": "code",
   "execution_count": 215,
   "id": "e0b6613e",
   "metadata": {
    "execution": {
     "iopub.execute_input": "2022-11-28T05:50:30.989493Z",
     "iopub.status.busy": "2022-11-28T05:50:30.988494Z",
     "iopub.status.idle": "2022-11-28T05:50:31.000434Z",
     "shell.execute_reply": "2022-11-28T05:50:30.998916Z"
    },
    "papermill": {
     "duration": 0.028607,
     "end_time": "2022-11-28T05:50:31.002889",
     "exception": false,
     "start_time": "2022-11-28T05:50:30.974282",
     "status": "completed"
    },
    "scrolled": false,
    "tags": []
   },
   "outputs": [
    {
     "name": "stdout",
     "output_type": "stream",
     "text": [
      "              precision    recall  f1-score   support\n",
      "\n",
      "           0       0.81      0.92      0.86       143\n",
      "           1       0.83      0.65      0.73        88\n",
      "\n",
      "    accuracy                           0.81       231\n",
      "   macro avg       0.82      0.78      0.79       231\n",
      "weighted avg       0.82      0.81      0.81       231\n",
      "\n"
     ]
    }
   ],
   "source": [
    "print(classification_report(y_test, y_pred))"
   ]
  },
  {
   "cell_type": "markdown",
   "id": "2661bb8b",
   "metadata": {
    "papermill": {
     "duration": 0.011984,
     "end_time": "2022-11-28T05:50:31.027389",
     "exception": false,
     "start_time": "2022-11-28T05:50:31.015405",
     "status": "completed"
    },
    "tags": []
   },
   "source": [
    "## Testing Model"
   ]
  },
  {
   "cell_type": "code",
   "execution_count": 241,
   "id": "d6ff11f9",
   "metadata": {
    "execution": {
     "iopub.execute_input": "2022-11-28T05:50:31.053316Z",
     "iopub.status.busy": "2022-11-28T05:50:31.052929Z",
     "iopub.status.idle": "2022-11-28T05:50:31.063917Z",
     "shell.execute_reply": "2022-11-28T05:50:31.062946Z"
    },
    "papermill": {
     "duration": 0.026795,
     "end_time": "2022-11-28T05:50:31.066091",
     "exception": false,
     "start_time": "2022-11-28T05:50:31.039296",
     "status": "completed"
    },
    "tags": []
   },
   "outputs": [
    {
     "data": {
      "text/plain": [
       "array([0], dtype=int64)"
      ]
     },
     "execution_count": 241,
     "metadata": {},
     "output_type": "execute_result"
    }
   ],
   "source": [
    "# Defined data set (it should be diabetic)\n",
    "data = [[5, 10,33.7, 50, 150, 74, 0.5, 53]]\n",
    "\n",
    "# Create the pandas DataFrame \n",
    "df_test = pd.DataFrame(data, columns = ['Pregnancies','Glucose','BloodPressure','SkinThickness','Insulin','BMI','DiabetesPedigreeFunction','Age'])\n",
    "\n",
    "# Predict on new data\n",
    "res = lr.predict(df_test)\n",
    "res"
   ]
  },
  {
   "cell_type": "markdown",
   "id": "8518eab7",
   "metadata": {
    "papermill": {
     "duration": 0.01173,
     "end_time": "2022-11-28T05:50:31.089926",
     "exception": false,
     "start_time": "2022-11-28T05:50:31.078196",
     "status": "completed"
    },
    "tags": []
   },
   "source": [
    "Yup... The result correct"
   ]
  }
 ],
 "metadata": {
  "kernelspec": {
   "display_name": "Python 3 (ipykernel)",
   "language": "python",
   "name": "python3"
  },
  "language_info": {
   "codemirror_mode": {
    "name": "ipython",
    "version": 3
   },
   "file_extension": ".py",
   "mimetype": "text/x-python",
   "name": "python",
   "nbconvert_exporter": "python",
   "pygments_lexer": "ipython3",
   "version": "3.10.9"
  },
  "papermill": {
   "default_parameters": {},
   "duration": 18.142396,
   "end_time": "2022-11-28T05:50:32.125843",
   "environment_variables": {},
   "exception": null,
   "input_path": "__notebook__.ipynb",
   "output_path": "__notebook__.ipynb",
   "parameters": {},
   "start_time": "2022-11-28T05:50:13.983447",
   "version": "2.3.4"
  }
 },
 "nbformat": 4,
 "nbformat_minor": 5
}
